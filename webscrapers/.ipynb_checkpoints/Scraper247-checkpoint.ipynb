{
 "cells": [
  {
   "cell_type": "code",
   "execution_count": 2,
   "id": "4144f4ea",
   "metadata": {},
   "outputs": [],
   "source": [
    "import requests\n",
    "from bs4 import BeautifulSoup"
   ]
  },
  {
   "cell_type": "code",
   "execution_count": 3,
   "id": "0719d37e",
   "metadata": {},
   "outputs": [],
   "source": [
    "base_url = 'https://247sports.com/'\n",
    "url = base_url + \"Season/2021-Football/CollegeTeamTalentComposite/?Conference=\";\n",
    "conferences = ['ACC','Big-12','Big-Ten','Pac-12','SEC','AAC']"
   ]
  },
  {
   "cell_type": "code",
   "execution_count": 4,
   "id": "1ed63067",
   "metadata": {},
   "outputs": [],
   "source": [
    "big12 = url + conferences[1]\n",
    "html = requests.get(big12, headers={\"User-Agent\": \"Requests\"}).content\n",
    "soup = BeautifulSoup(html, 'html.parser')"
   ]
  },
  {
   "cell_type": "code",
   "execution_count": 5,
   "id": "8cd65d04",
   "metadata": {},
   "outputs": [],
   "source": [
    "containers = soup.find_all('a', {\"class\": \"rankings-page__name-link\"})\n"
   ]
  },
  {
   "cell_type": "code",
   "execution_count": 6,
   "id": "b6ce0790",
   "metadata": {},
   "outputs": [
    {
     "name": "stdout",
     "output_type": "stream",
     "text": [
      "/Team/Oklahoma-39/Roster\n",
      "/Team/Texas-43/Roster\n",
      "/Team/TCU-456/Roster\n",
      "/Team/Baylor-25/Roster\n",
      "/Team/Oklahoma-State-41/Roster\n",
      "/Team/Iowa-State-29/Roster\n",
      "/Team/West-Virginia-457/Roster\n",
      "/Team/Texas-Tech-47/Roster\n",
      "/Team/Kansas-State-33/Roster\n",
      "/Team/Kansas-31/Roster\n"
     ]
    }
   ],
   "source": [
    "for link in containers:\n",
    "    if link.has_attr('href'):\n",
    "        print(link['href'])\n"
   ]
  },
  {
   "cell_type": "code",
   "execution_count": 1,
   "id": "c4185d98",
   "metadata": {},
   "outputs": [
    {
     "ename": "NameError",
     "evalue": "name 'conferences' is not defined",
     "output_type": "error",
     "traceback": [
      "\u001b[0;31m---------------------------------------------------------------------------\u001b[0m",
      "\u001b[0;31mNameError\u001b[0m                                 Traceback (most recent call last)",
      "Input \u001b[0;32mIn [1]\u001b[0m, in \u001b[0;36m<cell line: 1>\u001b[0;34m()\u001b[0m\n\u001b[0;32m----> 1\u001b[0m \u001b[38;5;28;01mfor\u001b[39;00m conference \u001b[38;5;129;01min\u001b[39;00m \u001b[43mconferences\u001b[49m:\n\u001b[1;32m      2\u001b[0m     \u001b[38;5;28mprint\u001b[39m(\u001b[38;5;124m\"\u001b[39m\u001b[38;5;124m#####\u001b[39m\u001b[38;5;124m\"\u001b[39m \u001b[38;5;241m+\u001b[39m conference)\n\u001b[1;32m      3\u001b[0m     conference_url \u001b[38;5;241m=\u001b[39m url \u001b[38;5;241m+\u001b[39m conference\n",
      "\u001b[0;31mNameError\u001b[0m: name 'conferences' is not defined"
     ]
    }
   ],
   "source": [
    "for conference in conferences:\n",
    "    print(\"#####\" + conference)\n",
    "    conference_url = url + conference\n",
    "    html = requests.get(conference_url, headers={\"User-Agent\": \"Requests\"}).content\n",
    "    soup = BeautifulSoup(html, 'html.parser')\n",
    "    containers = soup.find_all('a', {\"class\": \"rankings-page__name-link\"})\n",
    "    for link in containers:\n",
    "        if link.has_attr('href'):\n",
    "            print(link['href'])\n",
    "\n",
    "    "
   ]
  },
  {
   "cell_type": "code",
   "execution_count": null,
   "id": "a6514143",
   "metadata": {},
   "outputs": [],
   "source": []
  }
 ],
 "metadata": {
  "kernelspec": {
   "display_name": "Python 3 (ipykernel)",
   "language": "python",
   "name": "python3"
  },
  "language_info": {
   "codemirror_mode": {
    "name": "ipython",
    "version": 3
   },
   "file_extension": ".py",
   "mimetype": "text/x-python",
   "name": "python",
   "nbconvert_exporter": "python",
   "pygments_lexer": "ipython3",
   "version": "3.8.9"
  }
 },
 "nbformat": 4,
 "nbformat_minor": 5
}
