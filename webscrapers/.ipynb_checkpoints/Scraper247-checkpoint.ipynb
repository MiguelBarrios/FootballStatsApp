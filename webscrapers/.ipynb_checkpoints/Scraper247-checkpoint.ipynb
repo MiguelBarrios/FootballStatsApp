{
 "cells": [
  {
   "cell_type": "code",
   "execution_count": 1,
   "id": "eee46c3f",
   "metadata": {},
   "outputs": [
    {
     "ename": "ModuleNotFoundError",
     "evalue": "No module named 'tqdm'",
     "output_type": "error",
     "traceback": [
      "\u001b[0;31m---------------------------------------------------------------------------\u001b[0m",
      "\u001b[0;31mModuleNotFoundError\u001b[0m                       Traceback (most recent call last)",
      "Input \u001b[0;32mIn [1]\u001b[0m, in \u001b[0;36m<cell line: 1>\u001b[0;34m()\u001b[0m\n\u001b[0;32m----> 1\u001b[0m \u001b[38;5;28;01mfrom\u001b[39;00m \u001b[38;5;21;01mtqdm\u001b[39;00m \u001b[38;5;28;01mimport\u001b[39;00m tqdm\n\u001b[1;32m      2\u001b[0m \u001b[38;5;28;01mimport\u001b[39;00m \u001b[38;5;21;01mrequests\u001b[39;00m\n\u001b[1;32m      3\u001b[0m \u001b[38;5;28;01mfrom\u001b[39;00m \u001b[38;5;21;01mbs4\u001b[39;00m \u001b[38;5;28;01mimport\u001b[39;00m BeautifulSoup\n",
      "\u001b[0;31mModuleNotFoundError\u001b[0m: No module named 'tqdm'"
     ]
    }
   ],
   "source": [
    "import requests\n",
    "from bs4 import BeautifulSoup"
   ]
  },
  {
   "cell_type": "code",
   "execution_count": null,
   "id": "1e723723",
   "metadata": {},
   "outputs": [],
   "source": [
    "base_url = 'https://247sports.com/'\n",
    "url = base_url + \"Season/2021-Football/CollegeTeamTalentComposite/?Conference=\";\n",
    "conferences = ['ACC','Big-12','Big-Ten','Pac-12','SEC','AAC']"
   ]
  },
  {
   "cell_type": "code",
   "execution_count": null,
   "id": "9006eb17",
   "metadata": {},
   "outputs": [],
   "source": [
    "def parse_team_info(soup):\n",
    "    a = soup.find('a', {'class':'rankings-page__name-link'})\n",
    "    teamName = a.string.strip()\n",
    "    team_breakdown_url = a['href'] if a.has_attr('href') else None\n",
    "    logo_container = soup.find('img')\n",
    "    logo_url = logo_container['data-src'] if logo_container.has_attr('data-src') else None\n",
    "    if logo_url is not None:\n",
    "        logo_url = logo_url.split('?')[0]\n",
    "    \n",
    "    team_data = {'name':teamName,'team_url' : team_breakdown_url, 'logo_url' : logo_url}\n",
    "    return team_data"
   ]
  },
  {
   "cell_type": "code",
   "execution_count": null,
   "id": "f30c2c75",
   "metadata": {},
   "outputs": [],
   "source": [
    "data = {}\n",
    "for conference in conferences:\n",
    "    conference_url = url + conference\n",
    "    html = requests.get(conference_url, headers={\"User-Agent\": \"Requests\"}).content\n",
    "    soup = BeautifulSoup(html, 'html.parser')\n",
    "    team_info_containers = soup.find_all('li', {'class' : 'rankings-page__list-item'})\n",
    "    for team_container in team_info_containers:\n",
    "        team_data = parse_team_info(team_container)\n",
    "        team_data['conference'] = conference\n",
    "        data[team_data['name']] = team_data"
   ]
  },
  {
   "cell_type": "code",
   "execution_count": null,
   "id": "262d18d7",
   "metadata": {},
   "outputs": [],
   "source": [
    "def get_team_talent_data(team_data, team_name):\n",
    "    team_url = base_url + team_data['team_url']\n",
    "    html = requests.get(team_url, headers={\"User-Agent\": \"Requests\"}).content\n",
    "    soup = BeautifulSoup(html, 'html.parser')\n",
    "    table_body = soup.find('tbody')\n",
    "    # extract team members\n",
    "    containers = table_body.find_all('td')\n",
    "    roster = []\n",
    "    for container in containers:\n",
    "        a = container.find('a')\n",
    "        name = a.string if a else container.find('span').string\n",
    "        roster.append(name)\n",
    "    \n",
    "    players_info = []\n",
    "    # extract talent info\n",
    "    stats_container = soup.find('div', {'class' : 'scroll-table-container'})\n",
    "    table_body = stats_container.find('tbody')\n",
    "    rows = table_body.find_all('tr')\n",
    "    if len(rows) != len(roster):\n",
    "        print(\"##### error: mismach roster and stats\")\n",
    "    else:\n",
    "        for i in range(len(rows)):\n",
    "            name = roster[i]\n",
    "            row = rows[i]\n",
    "            stats = row.find_all('td')\n",
    "            position = stats[1].string\n",
    "            height = stats[2].string\n",
    "            weight = stats[3].string\n",
    "            year = stats[4].string\n",
    "            stars = row.find_all('span', {'class':'icon-starsolid'})\n",
    "            player = {'name':name, 'team': team_name, 'position' : position, 'height' : height, 'weight' : weight, 'year' : year, 'stars' : len(stars)}\n",
    "            print(player)\n",
    "    "
   ]
  },
  {
   "cell_type": "code",
   "execution_count": null,
   "id": "259339e1",
   "metadata": {},
   "outputs": [],
   "source": [
    "players = []\n",
    "oklahoma = data['Oklahoma']\n",
    "get_team_talent_data(oklahoma, 'Oklahoma')"
   ]
  },
  {
   "cell_type": "code",
   "execution_count": null,
   "id": "0949a3f2",
   "metadata": {},
   "outputs": [],
   "source": []
  },
  {
   "cell_type": "code",
   "execution_count": null,
   "id": "c03cb4df",
   "metadata": {},
   "outputs": [],
   "source": []
  }
 ],
 "metadata": {
  "kernelspec": {
   "display_name": "Python 3 (ipykernel)",
   "language": "python",
   "name": "python3"
  },
  "language_info": {
   "codemirror_mode": {
    "name": "ipython",
    "version": 3
   },
   "file_extension": ".py",
   "mimetype": "text/x-python",
   "name": "python",
   "nbconvert_exporter": "python",
   "pygments_lexer": "ipython3",
   "version": "3.8.9"
  }
 },
 "nbformat": 4,
 "nbformat_minor": 5
}
