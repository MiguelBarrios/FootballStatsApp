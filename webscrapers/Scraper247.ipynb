{
 "cells": [
  {
   "cell_type": "code",
   "execution_count": 38,
   "id": "22ca1c22",
   "metadata": {},
   "outputs": [],
   "source": [
    "import requests\n",
    "from bs4 import BeautifulSoup"
   ]
  },
  {
   "cell_type": "code",
   "execution_count": 39,
   "id": "f56b643b",
   "metadata": {},
   "outputs": [],
   "source": [
    "base_url = 'https://247sports.com/'\n",
    "url = base_url + \"Season/2021-Football/CollegeTeamTalentComposite/?Conference=\";\n",
    "conferences = ['ACC','Big-12','Big-Ten','Pac-12','SEC','AAC']"
   ]
  },
  {
   "cell_type": "code",
   "execution_count": 40,
   "id": "ed918b69",
   "metadata": {},
   "outputs": [],
   "source": [
    "big12 = url + conferences[1]\n",
    "html = requests.get(big12, headers={\"User-Agent\": \"Requests\"}).content\n",
    "soup = BeautifulSoup(html, 'html.parser')"
   ]
  },
  {
   "cell_type": "code",
   "execution_count": 45,
   "id": "0336b3a4",
   "metadata": {},
   "outputs": [],
   "source": [
    "containers = soup.find_all('a', {\"class\": \"rankings-page__name-link\"})\n"
   ]
  },
  {
   "cell_type": "code",
   "execution_count": 47,
   "id": "7adeeefb",
   "metadata": {},
   "outputs": [
    {
     "name": "stdout",
     "output_type": "stream",
     "text": [
      "/Team/Oklahoma-39/Roster\n",
      "/Team/Texas-43/Roster\n",
      "/Team/TCU-456/Roster\n",
      "/Team/Baylor-25/Roster\n",
      "/Team/Oklahoma-State-41/Roster\n",
      "/Team/Iowa-State-29/Roster\n",
      "/Team/West-Virginia-457/Roster\n",
      "/Team/Texas-Tech-47/Roster\n",
      "/Team/Kansas-State-33/Roster\n",
      "/Team/Kansas-31/Roster\n"
     ]
    }
   ],
   "source": [
    "for link in containers:\n",
    "    if link.has_attr('href'):\n",
    "        print(link['href'])\n"
   ]
  },
  {
   "cell_type": "code",
   "execution_count": 50,
   "id": "02b40676",
   "metadata": {},
   "outputs": [
    {
     "name": "stdout",
     "output_type": "stream",
     "text": [
      "#####ACC\n",
      "/Team/Clemson-3/Roster\n",
      "/Team/Miami-13/Roster\n",
      "/Team/North-Carolina-15/Roster\n",
      "/Team/Florida-State-7/Roster\n",
      "/Team/Georgia-Tech-9/Roster\n",
      "/Team/NC-State-17/Roster\n",
      "/Team/Pittsburgh-460/Roster\n",
      "/Team/Virginia-Tech-21/Roster\n",
      "/Team/Boston-College-1/Roster\n",
      "/Team/Virginia-19/Roster\n",
      "/Team/Louisville-53/Roster\n",
      "/Team/Duke-5/Roster\n",
      "/Team/Wake-Forest-23/Roster\n",
      "/Team/Syracuse-461/Roster\n",
      "#####Big-12\n",
      "/Team/Oklahoma-39/Roster\n",
      "/Team/Texas-43/Roster\n",
      "/Team/TCU-456/Roster\n",
      "/Team/Baylor-25/Roster\n",
      "/Team/Oklahoma-State-41/Roster\n",
      "/Team/Iowa-State-29/Roster\n",
      "/Team/West-Virginia-457/Roster\n",
      "/Team/Texas-Tech-47/Roster\n",
      "/Team/Kansas-State-33/Roster\n",
      "/Team/Kansas-31/Roster\n",
      "#####Big-Ten\n",
      "/Team/Ohio-State-79/Roster\n",
      "/Team/Michigan-71/Roster\n",
      "/Team/Penn-State-81/Roster\n",
      "/Team/Wisconsin-85/Roster\n",
      "/Team/Nebraska-37/Roster\n",
      "/Team/Maryland-11/Roster\n",
      "/Team/Michigan-State-73/Roster\n",
      "/Team/Indiana-67/Roster\n",
      "/Team/Iowa-69/Roster\n",
      "/Team/Minnesota-75/Roster\n",
      "/Team/Northwestern-77/Roster\n",
      "/Team/Purdue-83/Roster\n",
      "/Team/Illinois-65/Roster\n",
      "/Team/Rutgers-57/Roster\n",
      "#####Pac-12\n",
      "/Team/Oregon-152/Roster\n",
      "/Team/USC-214/Roster\n",
      "/Team/Washington-160/Roster\n",
      "/Team/UCLA-158/Roster\n",
      "/Team/Stanford-156/Roster\n",
      "/Team/Arizona-State-148/Roster\n",
      "/Team/Utah-144/Roster\n",
      "/Team/California-150/Roster\n",
      "/Team/Oregon-State-154/Roster\n",
      "/Team/Colorado-27/Roster\n",
      "/Team/Washington-State-162/Roster\n",
      "/Team/Arizona-146/Roster\n",
      "#####SEC\n",
      "/Team/Alabama-164/Roster\n",
      "/Team/Georgia-172/Roster\n",
      "/Team/LSU-176/Roster\n",
      "/Team/Florida-170/Roster\n",
      "/Team/Texas-AM-459/Roster\n",
      "/Team/Auburn-168/Roster\n",
      "/Team/Tennessee-184/Roster\n",
      "/Team/South-Carolina-182/Roster\n",
      "/Team/Ole-Miss-178/Roster\n",
      "/Team/Arkansas-166/Roster\n",
      "/Team/Mississippi-State-180/Roster\n",
      "/Team/Kentucky-174/Roster\n",
      "/Team/Missouri-458/Roster\n",
      "/Team/Vanderbilt-186/Roster\n",
      "#####AAC\n",
      "/Team/UCF-103/Roster\n",
      "/Team/Memphis-93/Roster\n",
      "/Team/Cincinnati-49/Roster\n",
      "/Team/SMU-426/Roster\n",
      "/Team/USF-59/Roster\n",
      "/Team/Houston-89/Roster\n",
      "/Team/East-Carolina-87/Roster\n",
      "/Team/Temple-127/Roster\n",
      "/Team/Tulane-97/Roster\n",
      "/Team/Tulsa-99/Roster\n",
      "/Team/Navy-108/Roster\n"
     ]
    }
   ],
   "source": [
    "for conference in conferences:\n",
    "    print(\"#####\" + conference)\n",
    "    conference_url = url + conference\n",
    "    html = requests.get(conference_url, headers={\"User-Agent\": \"Requests\"}).content\n",
    "    soup = BeautifulSoup(html, 'html.parser')\n",
    "    containers = soup.find_all('a', {\"class\": \"rankings-page__name-link\"})\n",
    "    for link in containers:\n",
    "        if link.has_attr('href'):\n",
    "            print(link['href'])\n",
    "\n",
    "    "
   ]
  },
  {
   "cell_type": "code",
   "execution_count": null,
   "id": "4174a227",
   "metadata": {},
   "outputs": [],
   "source": []
  }
 ],
 "metadata": {
  "kernelspec": {
   "display_name": "Python 3 (ipykernel)",
   "language": "python",
   "name": "python3"
  },
  "language_info": {
   "codemirror_mode": {
    "name": "ipython",
    "version": 3
   },
   "file_extension": ".py",
   "mimetype": "text/x-python",
   "name": "python",
   "nbconvert_exporter": "python",
   "pygments_lexer": "ipython3",
   "version": "3.8.9"
  }
 },
 "nbformat": 4,
 "nbformat_minor": 5
}
