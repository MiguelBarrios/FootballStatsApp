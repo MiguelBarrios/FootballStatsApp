{
 "cells": [
  {
   "cell_type": "code",
   "execution_count": 1,
   "id": "eee46c3f",
   "metadata": {},
   "outputs": [
    {
     "name": "stdout",
     "output_type": "stream",
     "text": [
      "Defaulting to user installation because normal site-packages is not writeable\n",
      "Requirement already satisfied: mysql-connector-python-rf in /Users/miguelbarrios/Library/Python/3.8/lib/python/site-packages (2.2.2)\n"
     ]
    },
    {
     "name": "stderr",
     "output_type": "stream",
     "text": [
      "WARNING: pip is being invoked by an old script wrapper. This will fail in a future version of pip.\n",
      "Please see https://github.com/pypa/pip/issues/5599 for advice on fixing the underlying issue.\n",
      "To avoid this problem you can invoke Python with '-m pip' instead of running pip directly.\n",
      "WARNING: You are using pip version 20.2.3; however, version 22.1.2 is available.\n",
      "You should consider upgrading via the '/Library/Developer/CommandLineTools/usr/bin/python3 -m pip install --upgrade pip' command.\n"
     ]
    }
   ],
   "source": [
    "from pip._internal import main\n",
    "main(['install','mysql-connector-python-rf'])\n",
    "import mysql.connector\n",
    "import requests\n",
    "from bs4 import BeautifulSoup"
   ]
  },
  {
   "cell_type": "code",
   "execution_count": 2,
   "id": "1e723723",
   "metadata": {},
   "outputs": [],
   "source": [
    "base_url = 'https://247sports.com/'\n",
    "url = base_url + \"Season/2021-Football/CollegeTeamTalentComposite/?Conference=\";\n",
    "conferences = ['ACC','Big-12','Big-Ten','Pac-12','SEC','AAC']"
   ]
  },
  {
   "cell_type": "code",
   "execution_count": 5,
   "id": "9006eb17",
   "metadata": {},
   "outputs": [],
   "source": [
    "def parse_team_info(soup):\n",
    "    a = soup.find('a', {'class':'rankings-page__name-link'})\n",
    "    teamName = a.string.strip()\n",
    "    team_breakdown_url = a['href'] if a.has_attr('href') else None\n",
    "    logo_container = soup.find('img')\n",
    "    logo_url = logo_container['data-src'] if logo_container.has_attr('data-src') else None\n",
    "    if logo_url is not None:\n",
    "        logo_url = logo_url.split('?')[0]\n",
    "    team_data = {'name':teamName,'team_url' : team_breakdown_url, 'logo_url' : logo_url}\n",
    "    return team_data\n",
    "\n",
    "def get_team_data():\n",
    "    data = {}\n",
    "    for conference in conferences:\n",
    "        conference_url = url + conference\n",
    "        html = requests.get(conference_url, headers={\"User-Agent\": \"Requests\"}).content\n",
    "        soup = BeautifulSoup(html, 'html.parser')\n",
    "        team_info_containers = soup.find_all('li', {'class' : 'rankings-page__list-item'})\n",
    "        for team_container in team_info_containers:\n",
    "            team_data = parse_team_info(team_container)\n",
    "            team_data['conference'] = conference\n",
    "            data[team_data['name']] = team_data\n",
    "    return data\n",
    "\n",
    "def get_team_talent_data(team_data, team_name):\n",
    "    team_url = base_url + team_data['team_url']\n",
    "    html = requests.get(team_url, headers={\"User-Agent\": \"Requests\"}).content\n",
    "    soup = BeautifulSoup(html, 'html.parser')\n",
    "    table_body = soup.find('tbody')\n",
    "    # extract team members\n",
    "    containers = table_body.find_all('td')\n",
    "    roster = []\n",
    "    for container in containers:\n",
    "        a = container.find('a')\n",
    "        name = a.string if a else container.find('span').string\n",
    "        roster.append(name)\n",
    "    \n",
    "    players = []\n",
    "    # extract talent info\n",
    "    stats_container = soup.find('div', {'class' : 'scroll-table-container'})\n",
    "    table_body = stats_container.find('tbody')\n",
    "    rows = table_body.find_all('tr')\n",
    "    if len(rows) != len(roster):\n",
    "        print(\"##### error: mismach roster and stats\")\n",
    "    else:\n",
    "        for i in range(len(rows)):\n",
    "            name = roster[i]\n",
    "            row = rows[i]\n",
    "            stats = row.find_all('td')\n",
    "            position = stats[1].string\n",
    "            height = stats[2].string\n",
    "            weight = stats[3].string\n",
    "            year = stats[4].string\n",
    "            stars = row.find_all('span', {'class':'icon-starsolid'})\n",
    "            player = {'name':name, 'team': team_name, 'position' : position, 'height' : height, 'weight' : weight, 'year' : year, 'stars' : len(stars)}\n",
    "            players.append(player)\n",
    "    return players"
   ]
  },
  {
   "cell_type": "code",
   "execution_count": 7,
   "id": "4d926010",
   "metadata": {},
   "outputs": [],
   "source": [
    "# DATA\n",
    "teams = get_team_data()\n",
    "players = []\n",
    "\n",
    "# get list of all players on all teams\n",
    "for team_name in teams:\n",
    "    roster = get_team_talent_data(teams[team_name], team_name)\n",
    "    players.extend(roster)"
   ]
  },
  {
   "cell_type": "code",
   "execution_count": 53,
   "id": "aaac8911",
   "metadata": {},
   "outputs": [],
   "source": [
    "connection = mysql.connector.connect(user='cfbuser', password='cfbuser',\n",
    "                              host='127.0.0.1',\n",
    "                              database='cfbdb')\n",
    "cursor = connection.cursor()"
   ]
  },
  {
   "cell_type": "code",
   "execution_count": 9,
   "id": "94bea6e3",
   "metadata": {},
   "outputs": [
    {
     "name": "stdout",
     "output_type": "stream",
     "text": [
      "[('AAC',), ('ACC',), ('Big-12',), ('Big-Ten',), ('Pac-12',), ('SEC',)]\n"
     ]
    }
   ],
   "source": [
    "# select \n",
    "cursor.execute(\"SELECT * FROM conference\")\n",
    "results = cursor.fetchall()\n",
    "print(results)"
   ]
  },
  {
   "cell_type": "code",
   "execution_count": null,
   "id": "de53e6cb",
   "metadata": {},
   "outputs": [],
   "source": [
    "# Insert conferences into conference table\n",
    "for name in conferences:\n",
    "    sql = (\n",
    "       \"INSERT IGNORE INTO conference(name)\"\n",
    "       \"VALUES (%s)\"\n",
    "    )\n",
    "    data = (name,)\n",
    "    cursor.execute(sql, data)\n",
    "    connection.commit()"
   ]
  },
  {
   "cell_type": "code",
   "execution_count": null,
   "id": "d753ba2a",
   "metadata": {},
   "outputs": [],
   "source": [
    "# Insert team data into db\n",
    "\n",
    "# create list of values for inserts\n",
    "teams = []\n",
    "for team_name in data:\n",
    "    info = data[team_name]\n",
    "    item = (info['name'], info['team_url'], info['logo_url'], info['conference'])\n",
    "    teams.append(item)\n",
    "\n",
    "# insert teams into db\n",
    "sql = \"\"\"INSERT INTO team (name, team_url, logo_url, conference_name) \n",
    "        VALUES (%s, %s, %s, %s) \"\"\"\n",
    "\n",
    "cursor.executemany(sql, teams)\n",
    "connection.commit()\n",
    "print(cursor.rowcount, \"Record inserted successfully into team table\")"
   ]
  },
  {
   "cell_type": "code",
   "execution_count": 18,
   "id": "980b4de9",
   "metadata": {},
   "outputs": [],
   "source": [
    "cursor.execute('SELECT id, name FROM team')\n",
    "records = cursor.fetchall()\n",
    "teamIds = {}\n",
    "for record in records:\n",
    "    team_name = record[1]\n",
    "    team_id = record[0]\n",
    "    teamIds[team_name] = team_id"
   ]
  },
  {
   "cell_type": "code",
   "execution_count": 61,
   "id": "1720ab13",
   "metadata": {},
   "outputs": [],
   "source": [
    "records = []\n",
    "for p in players:\n",
    "    teamId = teamIds[p['team']]\n",
    "    height = None\n",
    "    if p[\"height\"]:\n",
    "        hightArr = p['height'].split('-')\n",
    "        height = int(hightArr[0]) * 12 + int(hightArr[1])\n",
    "    record = (str(p['name']), str(p['position']), height, int(p['weight']), str(p['year']), str(p['stars']),teamId)\n",
    "    records.append(record)"
   ]
  },
  {
   "cell_type": "code",
   "execution_count": 63,
   "id": "2160ba70",
   "metadata": {},
   "outputs": [
    {
     "name": "stdout",
     "output_type": "stream",
     "text": [
      "8148  Records inserted successfully into player table\n"
     ]
    }
   ],
   "source": [
    "# insert players into db\n",
    "sql = 'INSERT INTO player (name, position, height, weight, year, stars, team_id) VALUES (%s, %s, %s, %s,%s,%s,%s)'\n",
    "\n",
    "cursor.executemany(sql, records)\n",
    "connection.commit()\n",
    "print(cursor.rowcount, \" Records inserted successfully into player table\")"
   ]
  },
  {
   "cell_type": "code",
   "execution_count": 64,
   "id": "0bc90932",
   "metadata": {},
   "outputs": [],
   "source": [
    "connection.close()"
   ]
  },
  {
   "cell_type": "code",
   "execution_count": null,
   "id": "9d59c2de",
   "metadata": {},
   "outputs": [],
   "source": []
  }
 ],
 "metadata": {
  "kernelspec": {
   "display_name": "Python 3 (ipykernel)",
   "language": "python",
   "name": "python3"
  },
  "language_info": {
   "codemirror_mode": {
    "name": "ipython",
    "version": 3
   },
   "file_extension": ".py",
   "mimetype": "text/x-python",
   "name": "python",
   "nbconvert_exporter": "python",
   "pygments_lexer": "ipython3",
   "version": "3.8.9"
  }
 },
 "nbformat": 4,
 "nbformat_minor": 5
}
