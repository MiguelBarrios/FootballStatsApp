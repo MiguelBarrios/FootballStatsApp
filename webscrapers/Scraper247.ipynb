{
 "cells": [
  {
   "cell_type": "code",
   "execution_count": null,
   "id": "eee46c3f",
   "metadata": {},
   "outputs": [],
   "source": [
    "from pip._internal import main\n",
    "main(['install','mysql-connector-python-rf'])\n",
    "import mysql.connector\n",
    "import requests\n",
    "from bs4 import BeautifulSoup"
   ]
  },
  {
   "cell_type": "code",
   "execution_count": null,
   "id": "1e723723",
   "metadata": {},
   "outputs": [],
   "source": [
    "base_url = 'https://247sports.com/'\n",
    "url = base_url + \"Season/2021-Football/CollegeTeamTalentComposite/?Conference=\";\n",
    "conferences = ['ACC','Big-12','Big-Ten','Pac-12','SEC','AAC']"
   ]
  },
  {
   "cell_type": "code",
   "execution_count": null,
   "id": "c694cced",
   "metadata": {},
   "outputs": [],
   "source": [
    "# DATA\n",
    "data = get_teams_general_info()"
   ]
  },
  {
   "cell_type": "code",
   "execution_count": null,
   "id": "9006eb17",
   "metadata": {},
   "outputs": [],
   "source": [
    "def parse_team_info(soup):\n",
    "    a = soup.find('a', {'class':'rankings-page__name-link'})\n",
    "    teamName = a.string.strip()\n",
    "    team_breakdown_url = a['href'] if a.has_attr('href') else None\n",
    "    logo_container = soup.find('img')\n",
    "    logo_url = logo_container['data-src'] if logo_container.has_attr('data-src') else None\n",
    "    if logo_url is not None:\n",
    "        logo_url = logo_url.split('?')[0]\n",
    "    \n",
    "    team_data = {'name':teamName,'team_url' : team_breakdown_url, 'logo_url' : logo_url}\n",
    "    return team_data\n",
    "\n",
    "def get_teams_general_info():\n",
    "    data = {}\n",
    "    for conference in conferences:\n",
    "        conference_url = url + conference\n",
    "        html = requests.get(conference_url, headers={\"User-Agent\": \"Requests\"}).content\n",
    "        soup = BeautifulSoup(html, 'html.parser')\n",
    "        team_info_containers = soup.find_all('li', {'class' : 'rankings-page__list-item'})\n",
    "        for team_container in team_info_containers:\n",
    "            team_data = parse_team_info(team_container)\n",
    "            team_data['conference'] = conference\n",
    "            data[team_data['name']] = team_data\n",
    "    return data"
   ]
  },
  {
   "cell_type": "code",
   "execution_count": null,
   "id": "262d18d7",
   "metadata": {},
   "outputs": [],
   "source": [
    "def get_team_talent_data(team_data, team_name):\n",
    "    team_url = base_url + team_data['team_url']\n",
    "    html = requests.get(team_url, headers={\"User-Agent\": \"Requests\"}).content\n",
    "    soup = BeautifulSoup(html, 'html.parser')\n",
    "    table_body = soup.find('tbody')\n",
    "    # extract team members\n",
    "    containers = table_body.find_all('td')\n",
    "    roster = []\n",
    "    for container in containers:\n",
    "        a = container.find('a')\n",
    "        name = a.string if a else container.find('span').string\n",
    "        roster.append(name)\n",
    "    \n",
    "    players = []\n",
    "    # extract talent info\n",
    "    stats_container = soup.find('div', {'class' : 'scroll-table-container'})\n",
    "    table_body = stats_container.find('tbody')\n",
    "    rows = table_body.find_all('tr')\n",
    "    if len(rows) != len(roster):\n",
    "        print(\"##### error: mismach roster and stats\")\n",
    "    else:\n",
    "        for i in range(len(rows)):\n",
    "            name = roster[i]\n",
    "            row = rows[i]\n",
    "            stats = row.find_all('td')\n",
    "            position = stats[1].string\n",
    "            height = stats[2].string\n",
    "            weight = stats[3].string\n",
    "            year = stats[4].string\n",
    "            stars = row.find_all('span', {'class':'icon-starsolid'})\n",
    "            player = {'name':name, 'team': team_name, 'position' : position, 'height' : height, 'weight' : weight, 'year' : year, 'stars' : len(stars)}\n",
    "            players.append(player)\n",
    "    return players\n",
    "    "
   ]
  },
  {
   "cell_type": "code",
   "execution_count": null,
   "id": "0949a3f2",
   "metadata": {},
   "outputs": [],
   "source": [
    "# playerDB = []\n",
    "# for team_name in data:\n",
    "#     print(\"fetching data for: \" + team_name)\n",
    "#     players = get_team_talent_data(data[team_name], team_name)\n",
    "#     playerDB.extend(players)"
   ]
  },
  {
   "cell_type": "code",
   "execution_count": null,
   "id": "f27fdb8a",
   "metadata": {},
   "outputs": [],
   "source": [
    "def filterByTeam(players, team):\n",
    "    filtered = filter(lambda player: player[\"team\"] == team, players)\n",
    "    return filtered\n",
    "\n",
    "def filterByPosition(players, position):\n",
    "    filtered = filter(lambda player: player['position'] == position, players)\n",
    "    return filtered\n",
    "\n",
    "def filterByTeamAndPosition(players, team, position):\n",
    "    filtered = filter(lambda player: player['position'] == position and player['team'] == team, players)\n",
    "    return filtered\n",
    "\n",
    "filtered = filterByTeamAndPosition(playerDB, 'Baylor', 'WR');\n",
    "for player in filtered:\n",
    "    print(player)\n",
    "    break\n",
    "\n"
   ]
  },
  {
   "cell_type": "code",
   "execution_count": 38,
   "id": "977e7c96",
   "metadata": {},
   "outputs": [],
   "source": [
    "connection = mysql.connector.connect(user='cfbuser', password='cfbuser',\n",
    "                              host='127.0.0.1',\n",
    "                              database='cfbdb')\n",
    "mycursor = connection.cursor()"
   ]
  },
  {
   "cell_type": "code",
   "execution_count": 39,
   "id": "38225023",
   "metadata": {},
   "outputs": [
    {
     "name": "stdout",
     "output_type": "stream",
     "text": [
      "[('%s',), ('AAC',), ('ACC',), ('SEC',)]\n"
     ]
    }
   ],
   "source": [
    "# select \n",
    "mycursor.execute(\"SELECT * FROM conference\")\n",
    "results = mycursor.fetchall()\n",
    "print(results)"
   ]
  },
  {
   "cell_type": "code",
   "execution_count": 51,
   "id": "3d5344ca",
   "metadata": {},
   "outputs": [],
   "source": [
    "# Insert conferences into conference table\n",
    "for name in conferences:\n",
    "    sql = (\n",
    "       \"INSERT IGNORE INTO conference(name)\"\n",
    "       \"VALUES (%s)\"\n",
    "    )\n",
    "    data = (name,)\n",
    "    mycursor.execute(sql, data)\n",
    "    connection.commit()"
   ]
  },
  {
   "cell_type": "code",
   "execution_count": 52,
   "id": "1c988240",
   "metadata": {},
   "outputs": [],
   "source": [
    "connection.close()"
   ]
  },
  {
   "cell_type": "code",
   "execution_count": null,
   "id": "e8003071",
   "metadata": {},
   "outputs": [],
   "source": []
  }
 ],
 "metadata": {
  "kernelspec": {
   "display_name": "Python 3 (ipykernel)",
   "language": "python",
   "name": "python3"
  },
  "language_info": {
   "codemirror_mode": {
    "name": "ipython",
    "version": 3
   },
   "file_extension": ".py",
   "mimetype": "text/x-python",
   "name": "python",
   "nbconvert_exporter": "python",
   "pygments_lexer": "ipython3",
   "version": "3.8.9"
  }
 },
 "nbformat": 4,
 "nbformat_minor": 5
}
